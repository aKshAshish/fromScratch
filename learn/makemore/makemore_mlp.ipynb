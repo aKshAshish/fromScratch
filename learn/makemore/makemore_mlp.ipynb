{
 "cells": [
  {
   "cell_type": "code",
   "execution_count": 26,
   "id": "1dad5be1-3048-435f-9e83-93778a6555c2",
   "metadata": {},
   "outputs": [],
   "source": [
    "import torch"
   ]
  },
  {
   "cell_type": "code",
   "execution_count": 1,
   "id": "9885ef29-c99f-4ab8-81bd-48b45ac3a6b7",
   "metadata": {},
   "outputs": [],
   "source": [
    "words = open('names.txt').read().splitlines()"
   ]
  },
  {
   "cell_type": "code",
   "execution_count": 19,
   "id": "310c8e30-9c8a-4bee-a9f4-7b399dd935b2",
   "metadata": {},
   "outputs": [],
   "source": [
    "alphabet = sorted(list(set(''.join(words))))\n",
    "stoi = {s:i+1 for i, s in enumerate(alphabet)}\n",
    "stoi['.'] = 0\n",
    "itos = {v:k for k, v in stoi.items()}"
   ]
  },
  {
   "cell_type": "code",
   "execution_count": 54,
   "id": "c6803183-e0ef-42b0-a23e-035fc5e4a9e0",
   "metadata": {},
   "outputs": [],
   "source": [
    "block_size = 3\n",
    "X, Y = [], []\n",
    "context = [0] * 3\n",
    "for word in words:\n",
    "    for ch in word:\n",
    "        #print(\"\".join(itos[i] for i in context)+f' ---> {ch}')\n",
    "        yidx = stoi[ch]\n",
    "        X.append(context)\n",
    "        Y.append(yidx)\n",
    "        context = context[1:] + [yidx]\n",
    "\n",
    "X = torch.tensor(X)\n",
    "Y = torch.tensor(Y)"
   ]
  },
  {
   "cell_type": "code",
   "execution_count": 55,
   "id": "f47b7bb3-f6b0-4e47-9776-37a5bb40cc30",
   "metadata": {},
   "outputs": [
    {
     "data": {
      "text/plain": [
       "(torch.Size([196113, 3]), torch.Size([196113]))"
      ]
     },
     "execution_count": 55,
     "metadata": {},
     "output_type": "execute_result"
    }
   ],
   "source": [
    "X.shape, Y.shape"
   ]
  },
  {
   "cell_type": "code",
   "execution_count": 56,
   "id": "9c37f0e7-209f-49b4-823e-b10ce34d278f",
   "metadata": {},
   "outputs": [],
   "source": [
    "g = torch.Generator().manual_seed(2147483647)\n",
    "n_inputs = block_size * C.shape[1]\n",
    "C = torch.randn((27, 2), requires_grad=True, generator=g)\n",
    "W1 = torch.randn((n_inputs, 100), requires_grad=True, generator=g)\n",
    "B1 = torch.randn(100, requires_grad=True, generator=g)\n",
    "W2 = torch.randn((W1.shape[1], 27), requires_grad=True, generator=g)\n",
    "B2 = torch.randn(27, requires_grad=True, generator=g)\n",
    "parameters = [C, W1, B1, W2, B2]"
   ]
  },
  {
   "cell_type": "code",
   "execution_count": 57,
   "id": "73562180-a5ff-426c-8300-70b39aa82a46",
   "metadata": {},
   "outputs": [],
   "source": [
    "import torch.nn.functional as F"
   ]
  },
  {
   "cell_type": "code",
   "execution_count": 71,
   "id": "21172c7e-24d7-4e61-9228-a5092c994097",
   "metadata": {},
   "outputs": [
    {
     "name": "stdout",
     "output_type": "stream",
     "text": [
      "Loss:  7.6610\n"
     ]
    }
   ],
   "source": [
    "# Forward Pass\n",
    "lr = 1\n",
    "ix_batch = torch.randint(0, X.shape[0], (64,)) # ---> Get indexes to create a batch of 64 examples\n",
    "batch = X[ix_batch] # Batch of 64 examples to train on\n",
    "# Layer 1 - Input Layer\n",
    "emb = C[batch]\n",
    "act1 = emb.view(-1, n_inputs) @ W1 + B1\n",
    "h = torch.tanh(act1)\n",
    "# Layer 2 - Hidden Layer with 100 neurons\n",
    "act2 = h @ W2 + B2\n",
    "# Layer 3 - Output Layer softmax\n",
    "loss = F.cross_entropy(act2, Y[ix_batch])\n",
    "print(f'Loss: {loss.item(): .4f}')\n",
    "# Backward Pass\n",
    "for p in parameters:\n",
    "    p.grad = None\n",
    "loss.backward()\n",
    "for p in parameters:\n",
    "    p.data += -lr * p.grad"
   ]
  },
  {
   "cell_type": "code",
   "execution_count": null,
   "id": "14ee2883-955e-4645-9bbf-deae215f282b",
   "metadata": {},
   "outputs": [],
   "source": []
  }
 ],
 "metadata": {
  "kernelspec": {
   "display_name": "Python 3 (ipykernel)",
   "language": "python",
   "name": "python3"
  },
  "language_info": {
   "codemirror_mode": {
    "name": "ipython",
    "version": 3
   },
   "file_extension": ".py",
   "mimetype": "text/x-python",
   "name": "python",
   "nbconvert_exporter": "python",
   "pygments_lexer": "ipython3",
   "version": "3.9.6"
  }
 },
 "nbformat": 4,
 "nbformat_minor": 5
}
