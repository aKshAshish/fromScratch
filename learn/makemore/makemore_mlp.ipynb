{
 "cells": [
  {
   "cell_type": "code",
   "execution_count": 4,
   "id": "1dad5be1-3048-435f-9e83-93778a6555c2",
   "metadata": {},
   "outputs": [],
   "source": [
    "import torch\n",
    "import torch.nn.functional as F\n",
    "import random\n",
    "import matplotlib.pyplot as plt\n",
    "%matplotlib inline"
   ]
  },
  {
   "cell_type": "code",
   "execution_count": 5,
   "id": "9885ef29-c99f-4ab8-81bd-48b45ac3a6b7",
   "metadata": {},
   "outputs": [],
   "source": [
    "words = open('names.txt').read().splitlines()"
   ]
  },
  {
   "cell_type": "code",
   "execution_count": 7,
   "id": "310c8e30-9c8a-4bee-a9f4-7b399dd935b2",
   "metadata": {},
   "outputs": [],
   "source": [
    "alphabet = sorted(list(set(''.join(words))))\n",
    "stoi = {s:i+1 for i, s in enumerate(alphabet)}\n",
    "stoi['.'] = 0\n",
    "itos = {v:k for k, v in stoi.items()}"
   ]
  },
  {
   "cell_type": "code",
   "execution_count": 8,
   "id": "c6803183-e0ef-42b0-a23e-035fc5e4a9e0",
   "metadata": {},
   "outputs": [
    {
     "name": "stdout",
     "output_type": "stream",
     "text": [
      "torch.Size([182625, 3]) torch.Size([182625])\n",
      "torch.Size([22655, 3]) torch.Size([22655])\n",
      "torch.Size([22866, 3]) torch.Size([22866])\n"
     ]
    }
   ],
   "source": [
    "block_size = 3\n",
    "def build_dataset(words):\n",
    "    X, Y = [], []\n",
    "    context = [0] * 3\n",
    "    for word in words:\n",
    "        for ch in word + '.':\n",
    "            #print(\"\".join(itos[i] for i in context)+f' ---> {ch}')\n",
    "            yidx = stoi[ch]\n",
    "            X.append(context)\n",
    "            Y.append(yidx)\n",
    "            context = context[1:] + [yidx]\n",
    "    \n",
    "    X = torch.tensor(X)\n",
    "    Y = torch.tensor(Y)\n",
    "    print(X.shape, Y.shape)\n",
    "    return X, Y\n",
    "random.seed(42)\n",
    "random.shuffle(words)\n",
    "n1 = int(0.8*len(words))\n",
    "n2 = int(0.9*len(words))\n",
    "Xtr, Ytr = build_dataset(words[:n1])\n",
    "Xdev, Ydev = build_dataset(words[n1:n2])\n",
    "Xtest, Ytest = build_dataset(words[n2:])"
   ]
  },
  {
   "cell_type": "code",
   "execution_count": 16,
   "id": "9c37f0e7-209f-49b4-823e-b10ce34d278f",
   "metadata": {},
   "outputs": [],
   "source": [
    "n_embed = 10\n",
    "n_layer2 = 200\n",
    "g = torch.Generator().manual_seed(2147483647)\n",
    "C = torch.randn((27, n_embed), requires_grad=True, generator=g)\n",
    "n_inputs = block_size * n_embed\n",
    "W1 = torch.randn((n_inputs, n_layer2), requires_grad=True, generator=g)\n",
    "B1 = torch.randn(n_layer2, requires_grad=True, generator=g)\n",
    "W2 = torch.randn((n_layer2, 27), requires_grad=True, generator=g)\n",
    "B2 = torch.randn(27, requires_grad=True, generator=g)\n",
    "parameters = [C, W1, B1, W2, B2]"
   ]
  },
  {
   "cell_type": "code",
   "execution_count": 10,
   "id": "248fa16f-1198-4eed-b7a5-b285a6f5e01f",
   "metadata": {},
   "outputs": [
    {
     "data": {
      "text/plain": [
       "11897"
      ]
     },
     "execution_count": 10,
     "metadata": {},
     "output_type": "execute_result"
    }
   ],
   "source": [
    "count = 0\n",
    "for p in parameters:\n",
    "    count += p.nelement()\n",
    "count"
   ]
  },
  {
   "cell_type": "code",
   "execution_count": 17,
   "id": "21172c7e-24d7-4e61-9228-a5092c994097",
   "metadata": {},
   "outputs": [
    {
     "name": "stdout",
     "output_type": "stream",
     "text": [
      "LearningRate: 0.1, Loss:  23.5762\n",
      "LearningRate: 0.1, Loss:  2.2612\n",
      "LearningRate: 0.1, Loss:  2.1768\n",
      "LearningRate: 0.1, Loss:  2.1910\n",
      "LearningRate: 0.1, Loss:  2.7340\n",
      "LearningRate: 0.1, Loss:  2.2709\n",
      "LearningRate: 0.1, Loss:  2.3954\n",
      "LearningRate: 0.1, Loss:  2.2556\n",
      "LearningRate: 0.1, Loss:  2.5837\n",
      "LearningRate: 0.1, Loss:  2.1886\n",
      "LearningRate: 0.1, Loss:  1.7472\n",
      "LearningRate: 0.01, Loss:  2.0195\n",
      "LearningRate: 0.01, Loss:  2.1902\n",
      "LearningRate: 0.01, Loss:  2.0474\n",
      "LearningRate: 0.01, Loss:  2.1928\n",
      "LearningRate: 0.01, Loss:  2.1785\n",
      "LearningRate: 0.01, Loss:  2.2037\n",
      "LearningRate: 0.01, Loss:  2.2453\n",
      "LearningRate: 0.01, Loss:  2.1312\n",
      "LearningRate: 0.01, Loss:  2.2829\n",
      "LearningRate: 0.01, Loss:  2.3813\n"
     ]
    }
   ],
   "source": [
    "# Gradient Descent\n",
    "for i in range(200000):\n",
    "    lr = 0.1 if i < 100000 else 0.01\n",
    "    # Forward Pass\n",
    "    ix_batch = torch.randint(0, Xtr.shape[0], (64,)) # ---> Get indexes to create a batch of 64 examples\n",
    "    batch = Xtr[ix_batch] # Batch of 64 examples to train on\n",
    "    # Layer 1 - Input Layer\n",
    "    emb = C[batch]\n",
    "    act1 = emb.view(-1, n_inputs) @ W1 + B1\n",
    "    h = torch.tanh(act1)\n",
    "    # Layer 2 - Hidden Layer with 100 neurons\n",
    "    act2 = h @ W2 + B2\n",
    "    # Layer 3 - Output Layer softmax\n",
    "    loss = F.cross_entropy(act2, Ytr[ix_batch])\n",
    "    # Backward Pass\n",
    "    for p in parameters:\n",
    "        p.grad = None\n",
    "    loss.backward()\n",
    "    for p in parameters:\n",
    "        p.data += -lr * p.grad\n",
    "\n",
    "    if i == 0 or (i+1) % 10000 == 0:\n",
    "        print(f'LearningRate: {lr}, Loss: {loss.item(): .4f}')"
   ]
  },
  {
   "cell_type": "code",
   "execution_count": 18,
   "id": "acce8a2a-3173-4b71-87f9-a49d1fec8180",
   "metadata": {},
   "outputs": [
    {
     "name": "stdout",
     "output_type": "stream",
     "text": [
      "torch.Size([182625, 3]) torch.Size([182625])\n",
      "2.1294162273406982\n",
      "torch.Size([22655, 3]) torch.Size([22655])\n",
      "2.1657228469848633\n"
     ]
    }
   ],
   "source": [
    "@torch.no_grad() # disables gradient tracking\n",
    "def evaluate(split):\n",
    "    X, Y = {\n",
    "        'train': (Xtr, Ytr),\n",
    "        'dev': (Xdev, Ydev),\n",
    "        'test': (Xtest, Ytest)\n",
    "    }[split]\n",
    "    print(X.shape, Y.shape)\n",
    "    emb = C[X]\n",
    "    logits1 = emb.view(-1, n_inputs) @ W1 + B1\n",
    "    act1 = torch.tanh(logits1)\n",
    "    logits2 = act1 @ W2 + B2\n",
    "    loss = F.cross_entropy(logits2, Y)\n",
    "    print(loss.item())\n",
    "\n",
    "evaluate('train')\n",
    "evaluate('dev')"
   ]
  },
  {
   "cell_type": "code",
   "execution_count": 31,
   "id": "14ee2883-955e-4645-9bbf-deae215f282b",
   "metadata": {},
   "outputs": [
    {
     "data": {
      "text/plain": [
       "[<matplotlib.lines.Line2D at 0x1293361f0>]"
      ]
     },
     "execution_count": 31,
     "metadata": {},
     "output_type": "execute_result"
    },
    {
     "data": {
      "image/png": "[encoded data removed]",
      "text/plain": [
       "<Figure size 640x480 with 1 Axes>"
      ]
     },
     "metadata": {},
     "output_type": "display_data"
    }
   ],
   "source": [
    "plt.plot(lri, lossi)"
   ]
  },
  {
   "cell_type": "code",
   "execution_count": 19,
   "id": "2a143a8d-f2cb-4af9-9352-8b9fec4ab778",
   "metadata": {},
   "outputs": [
    {
     "name": "stdout",
     "output_type": "stream",
     "text": [
      "torch.Size([22866, 3]) torch.Size([22866])\n",
      "2.164968729019165\n"
     ]
    }
   ],
   "source": [
    "evaluate('test')"
   ]
  },
  {
   "cell_type": "code",
   "execution_count": 22,
   "id": "c189c181-afe3-4c9a-9790-e74e989f647e",
   "metadata": {},
   "outputs": [
    {
     "name": "stdout",
     "output_type": "stream",
     "text": [
      "rxyn.\n",
      "rograana.\n",
      "raimsyn.\n",
      "axti.\n",
      "rolan.\n",
      "rxeu.\n",
      "roni.\n",
      "rose.\n",
      "ixa.\n",
      "rquella.\n",
      "kariaton.\n",
      "rowt.\n",
      "roska.\n",
      "regend.\n",
      "qhinth.\n",
      "roz.\n",
      "ramoee.\n",
      "qhin.\n",
      "rxetre.\n",
      "ray.\n"
     ]
    }
   ],
   "source": [
    "g = torch.Generator().manual_seed(2147483647+25)\n",
    "@torch.no_grad()\n",
    "def generate(n):\n",
    "    for i in range(n):\n",
    "        out = []\n",
    "        context = [0] * block_size\n",
    "        while True:\n",
    "            emb = C[torch.tensor([context])]\n",
    "            logits1 = emb.view(-1, n_inputs) @ W1 + B1\n",
    "            act1 = torch.tanh(logits1)\n",
    "            logits2 = act1 @ W2 + B2\n",
    "            probs = F.softmax(logits2, dim=1)\n",
    "            ix = torch.multinomial(probs, num_samples=1, generator=g).item()\n",
    "            context = context[1:] + [ix]\n",
    "            out.append(ix)\n",
    "            if ix == 0:\n",
    "                break\n",
    "\n",
    "        print(''.join(itos[ix] for ix in out))\n",
    "            \n",
    "generate(20)"
   ]
  },
  {
   "cell_type": "code",
   "execution_count": null,
   "id": "fb81908d-adbd-41ec-a0fa-6b16b107f7fc",
   "metadata": {},
   "outputs": [],
   "source": []
  }
 ],
 "metadata": {
  "kernelspec": {
   "display_name": "Python 3 (ipykernel)",
   "language": "python",
   "name": "python3"
  },
  "language_info": {
   "codemirror_mode": {
    "name": "ipython",
    "version": 3
   },
   "file_extension": ".py",
   "mimetype": "text/x-python",
   "name": "python",
   "nbconvert_exporter": "python",
   "pygments_lexer": "ipython3",
   "version": "3.9.6"
  }
 },
 "nbformat": 4,
 "nbformat_minor": 5
}
